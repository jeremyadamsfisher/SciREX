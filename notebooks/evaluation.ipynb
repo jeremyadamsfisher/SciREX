{
 "cells": [
  {
   "cell_type": "markdown",
   "id": "97651281",
   "metadata": {},
   "source": [
    "### Mention Identification (gold Input)"
   ]
  },
  {
   "cell_type": "code",
   "execution_count": 30,
   "id": "4b00ee25",
   "metadata": {},
   "outputs": [
    {
     "name": "stdout",
     "output_type": "stream",
     "text": [
      "Mention Identification\n",
      "p = 0.7236133951263268\n",
      "r = 0.7572059916304901\n",
      "f1 = 0.7400286669851888\n"
     ]
    }
   ],
   "source": [
    "import json\n",
    "gold = [json.loads(line) for line in open('/home/pbaweja/SciREX/scirex_dataset/release_data/test.jsonl')]\n",
    "predicted = [json.loads(line) for line in open('/home/pbaweja/SciREX/test_outputs/ner_predictions.jsonl')]\n",
    "\n",
    "gold_ner = predicted_ner = [[(m[0], m[1] - 1, m[2]) for m in doc['ner']] for doc in gold]\n",
    "\n",
    "predicted_ner = [[(m[0], m[1] - 1, m[2]) for m in doc['ner']] for doc in predicted]\n",
    "predicted_num = sum([len(s) for s in predicted_ner])\n",
    "gold_num = sum([len(s) for s in gold_ner])\n",
    "\n",
    "matched = sum([len(set(g) & set(p)) for g, p in zip(predicted_ner, gold_ner)])\n",
    "\n",
    "p = matched / predicted_num\n",
    "r = matched / gold_num\n",
    "f1 = 2 * p * r / (p + r)\n",
    "\n",
    "print(\"Mention Identification\")\n",
    "print(f\"p = {p}\")\n",
    "print(f\"r = {r}\")\n",
    "print(f\"f1 = {f1}\")"
   ]
  },
  {
   "cell_type": "markdown",
   "id": "f3e75a76",
   "metadata": {},
   "source": [
    "### Coreference Evaluation"
   ]
  },
  {
   "cell_type": "code",
   "execution_count": 34,
   "id": "3042b26d",
   "metadata": {},
   "outputs": [],
   "source": [
    "def span_match(span_1, span_2):\n",
    "    sa, ea = span_1\n",
    "    sb, eb = span_2\n",
    "    iou = (min(ea, eb) - max(sa, sb)) / (max(eb, ea) - min(sa, sb))\n",
    "    return iou"
   ]
  },
  {
   "cell_type": "code",
   "execution_count": 35,
   "id": "2d2947f3",
   "metadata": {},
   "outputs": [],
   "source": [
    "import pandas as pd\n",
    "from sys import argv\n",
    "\n",
    "\n",
    "def overlap_score(cluster_1, cluster_2):\n",
    "    matched = 0\n",
    "    for s1 in cluster_1:\n",
    "        matched += 1 if any([span_match(s1, s2) > 0.5 for s2 in cluster_2]) else 0\n",
    "\n",
    "    return matched / len(cluster_1)\n",
    "\n",
    "\n",
    "def compute_metrics(predicted_clusters, gold_clusters):\n",
    "    matched_predicted = []\n",
    "    matched_gold = []\n",
    "    for i, p in enumerate(predicted_clusters):\n",
    "        for j, g in enumerate(gold_clusters):\n",
    "            if overlap_score(p, g) > 0.5:\n",
    "                matched_predicted.append(i)\n",
    "                matched_gold.append(j)\n",
    "\n",
    "    matched_predicted = set(matched_predicted)\n",
    "    matched_gold = set(matched_gold)\n",
    "\n",
    "    metrics = {\n",
    "        \"p\": len(matched_predicted) / (len(predicted_clusters) + 1e-7),\n",
    "        \"r\": len(matched_gold) / (len(gold_clusters) + 1e-7),\n",
    "    }\n",
    "    metrics[\"f1\"] = 2 * metrics[\"p\"] * metrics[\"r\"] / (metrics[\"p\"] + metrics[\"r\"] + 1e-7)\n",
    "\n",
    "    return metrics\n",
    "\n",
    "\n",
    "def score_scirex_model(predictions, gold_data):\n",
    "    gold_data = {x[\"doc_id\"]: list(x[\"coref\"].values()) for x in gold_data}\n",
    "    predictions = {x[\"doc_id\"]: list(x[\"clusters\"].values()) for x in predictions}\n",
    "\n",
    "    all_metrics = []\n",
    "    for p, pc in predictions.items():\n",
    "        metrics = compute_metrics(pc, gold_data[p])\n",
    "        all_metrics.append(metrics)\n",
    "\n",
    "    all_metrics = pd.DataFrame(all_metrics)\n",
    "    print(all_metrics.describe())"
   ]
  },
  {
   "cell_type": "code",
   "execution_count": 48,
   "id": "b677205e",
   "metadata": {},
   "outputs": [],
   "source": [
    "gold = [json.loads(line) for line in open('/home/pbaweja/SciREX/scirex_dataset/release_data/test.jsonl')]\n",
    "predicted = [json.loads(line) for line in open('/home/pbaweja/SciREX/test_outputs/cluster_predictions.jsonl')]"
   ]
  },
  {
   "cell_type": "code",
   "execution_count": 46,
   "id": "ecb8abe9",
   "metadata": {},
   "outputs": [
    {
     "data": {
      "text/plain": [
       "dict_keys(['coref', 'coref_non_salient', 'doc_id', 'method_subrelations', 'n_ary_relations', 'ner', 'sections', 'sentences', 'words'])"
      ]
     },
     "execution_count": 46,
     "metadata": {},
     "output_type": "execute_result"
    }
   ],
   "source": [
    "gold[0].keys()"
   ]
  },
  {
   "cell_type": "code",
   "execution_count": 49,
   "id": "2079bd11",
   "metadata": {},
   "outputs": [
    {
     "data": {
      "text/plain": [
       "dict_keys(['doc_id', 'spans', 'clusters'])"
      ]
     },
     "execution_count": 49,
     "metadata": {},
     "output_type": "execute_result"
    }
   ],
   "source": [
    "predicted[0].keys()"
   ]
  },
  {
   "cell_type": "code",
   "execution_count": 50,
   "id": "05985785",
   "metadata": {},
   "outputs": [
    {
     "name": "stdout",
     "output_type": "stream",
     "text": [
      "              f1          p          r\n",
      "count  66.000000  66.000000  66.000000\n",
      "mean    0.092940   0.051823   0.662185\n",
      "std     0.054236   0.033848   0.225624\n",
      "min     0.016000   0.008264   0.066667\n",
      "25%     0.054632   0.029806   0.500000\n",
      "50%     0.085762   0.045658   0.666667\n",
      "75%     0.118125   0.063717   0.833333\n",
      "max     0.278422   0.172973   1.000000\n"
     ]
    }
   ],
   "source": [
    "score_scirex_model(predicted, gold)"
   ]
  },
  {
   "cell_type": "code",
   "execution_count": null,
   "id": "f240ab67",
   "metadata": {},
   "outputs": [],
   "source": []
  }
 ],
 "metadata": {
  "kernelspec": {
   "display_name": "Python 3",
   "language": "python",
   "name": "python3"
  },
  "language_info": {
   "codemirror_mode": {
    "name": "ipython",
    "version": 3
   },
   "file_extension": ".py",
   "mimetype": "text/x-python",
   "name": "python",
   "nbconvert_exporter": "python",
   "pygments_lexer": "ipython3",
   "version": "3.7.10"
  }
 },
 "nbformat": 4,
 "nbformat_minor": 5
}
